{
  "nbformat": 4,
  "nbformat_minor": 0,
  "metadata": {
    "colab": {
      "name": "190031925-ds-lab-5.ipynb",
      "provenance": [],
      "collapsed_sections": []
    },
    "kernelspec": {
      "name": "python3",
      "display_name": "Python 3"
    }
  },
  "cells": [
    {
      "cell_type": "markdown",
      "metadata": {
        "id": "IEc3OPTNTHQy"
      },
      "source": [
        "190031925-r.goutam-ds lab 5"
      ]
    },
    {
      "cell_type": "code",
      "metadata": {
        "id": "kPqoQ3OUTHke"
      },
      "source": [
        "import pandas as pd \r\n",
        "import numpy as np"
      ],
      "execution_count": null,
      "outputs": []
    },
    {
      "cell_type": "code",
      "metadata": {
        "colab": {
          "resources": {
            "http://localhost:8080/nbextensions/google.colab/files.js": {
              "data": "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",
              "ok": true,
              "headers": [
                [
                  "content-type",
                  "application/javascript"
                ]
              ],
              "status": 200,
              "status_text": ""
            }
          },
          "base_uri": "https://localhost:8080/",
          "height": 111
        },
        "id": "_l2liFjkTS95",
        "outputId": "17ab5c3a-e93b-461c-85e0-303b81ff7958"
      },
      "source": [
        "from google.colab import files \r\n",
        "files.upload()"
      ],
      "execution_count": null,
      "outputs": [
        {
          "output_type": "display_data",
          "data": {
            "text/html": [
              "\n",
              "     <input type=\"file\" id=\"files-0ddd1507-cd82-4bab-9de4-47acaae623bf\" name=\"files[]\" multiple disabled\n",
              "        style=\"border:none\" />\n",
              "     <output id=\"result-0ddd1507-cd82-4bab-9de4-47acaae623bf\">\n",
              "      Upload widget is only available when the cell has been executed in the\n",
              "      current browser session. Please rerun this cell to enable.\n",
              "      </output>\n",
              "      <script src=\"/nbextensions/google.colab/files.js\"></script> "
            ],
            "text/plain": [
              "<IPython.core.display.HTML object>"
            ]
          },
          "metadata": {
            "tags": []
          }
        },
        {
          "output_type": "stream",
          "text": [
            "Saving kerala.csv to kerala.csv\n"
          ],
          "name": "stdout"
        },
        {
          "output_type": "execute_result",
          "data": {
            "text/plain": [
              "{'kerala.csv': b'SUBDIVISION,YEAR,JAN,FEB,MAR,APR,MAY,JUN,JUL,AUG,SEP,OCT,NOV,DEC, ANNUAL RAINFALL,FLOODS\\r\\nKERALA,1901,28.7,44.7,51.6,160,174.7,824.6,743,357.5,197.7,266.9,350.8,48.4,3248.6,YES\\r\\nKERALA,1902,6.7,2.6,57.3,83.9,134.5,390.9,1205,315.8,491.6,358.4,158.3,121.5,3326.6,YES\\r\\nKERALA,1903,3.2,18.6,3.1,83.6,249.7,558.6,1022.5,420.2,341.8,354.1,157,59,3271.2,YES\\r\\nKERALA,1904,23.7,3,32.2,71.5,235.7,1098.2,725.5,351.8,222.7,328.1,33.9,3.3,3129.7,YES\\r\\nKERALA,1905,1.2,22.3,9.4,105.9,263.3,850.2,520.5,293.6,217.2,383.5,74.4,0.2,2741.6,NO\\r\\nKERALA,1906,26.7,7.4,9.9,59.4,160.8,414.9,954.2,442.8,131.2,251.7,163.1,86,2708,NO\\r\\nKERALA,1907,18.8,4.8,55.7,170.8,101.4,770.9,760.4,981.5,225,309.7,219.1,52.8,3671.1,YES\\r\\nKERALA,1908,8,20.8,38.2,102.9,142.6,592.6,902.2,352.9,175.9,253.3,47.9,11,2648.3,NO\\r\\nKERALA,1909,54.1,11.8,61.3,93.8,473.2,704.7,782.3,258,195.4,212.1,171.1,32.3,3050.2,YES\\r\\nKERALA,1910,2.7,25.7,23.3,124.5,148.8,680,484.1,473.8,248.6,356.6,280.4,0.1,2848.6,NO\\r\\nKERALA,1911,3,4.3,18.2,51,180.6,990,705.3,178.6,60.2,302.3,145.7,87.6,2726.7,NO\\r\\nKERALA,1912,1.9,15,11.2,122.7,217.3,948.2,833.6,534.4,136.8,469.5,138.7,22,3451.3,YES\\r\\nKERALA,1913,3.1,5.2,20.7,75.7,198.8,541.7,763.2,247.2,176.9,422.5,109.9,45.8,2610.8,NO\\r\\nKERALA,1914,0.7,6.8,18.1,32.7,164.2,565.3,857.7,402.2,241,374.4,100.9,135.2,2899.1,NO\\r\\nKERALA,1915,16.9,23.5,42.7,106,154.5,696.1,775.6,298.8,396.6,196.6,302.5,14.9,3024.5,YES\\r\\nKERALA,1916,0,7.8,22,82.4,199,920.2,513.9,396.9,339.3,320.7,134.3,8.9,2945.3,YES\\r\\nKERALA,1917,2.9,47.6,79.4,38.1,122.9,703.7,342.7,335.1,470.3,264.1,256.4,41.6,2704.8,NO\\r\\nKERALA,1918,42.9,5,32.8,51.3,683,464.3,167.5,376,96.4,233.2,295.4,54.1,2501.9,NO\\r\\nKERALA,1919,43,6.1,33.9,65.9,247,636.8,648,484.2,255.9,249.2,280.1,53,3003.3,YES\\r\\nKERALA,1920,35.2,5.5,24.1,172,87.7,964.3,940.8,235,178,350.1,302.3,8.2,3303.1,YES\\r\\nKERALA,1921,43,4.7,15,171.3,104.1,489.1,639.8,641.9,156.7,302.4,136.2,15.8,2719.9,NO\\r\\nKERALA,1922,30.5,21.4,16.3,89.6,293.6,663.1,1025.1,320.6,222.4,266.3,293.7,25.1,3267.6,YES\\r\\nKERALA,1923,24.7,0.7,78.9,43.5,80,722.5,1008.7,943,254.3,203.1,83.9,41.6,3484.7,YES\\r\\nKERALA,1924,19.3,2.9,66.6,111,185.4,1011.7,1526.5,624,289.1,176.5,162.9,50.4,4226.4,YES\\r\\nKERALA,1925,4.1,16.5,76.9,93.4,258.2,688.8,593.5,554.1,158.8,295.4,223.7,98.8,3062.1,YES\\r\\nKERALA,1926,28.6,5.8,23.1,55.8,222.6,563.9,885.2,536,322.7,216.7,88.8,16.2,2965.4,YES\\r\\nKERALA,1927,18.8,35.3,49.6,86.5,265.4,720.2,888.2,315,335.6,135.8,137.6,6.8,2994.7,YES\\r\\nKERALA,1928,12.7,65.9,51.3,121.1,81.9,590.7,420.6,553.2,75.9,321.5,155.2,52.7,2502.8,NO\\r\\nKERALA,1929,12.8,29.8,58.9,210.7,148,946.6,844,293.9,268.9,350.4,158.2,39.4,3361.6,YES\\r\\nKERALA,1930,10.8,10.8,39,102.7,404.9,633.1,401.7,273.4,411.5,433.9,207,89.2,3018,YES\\r\\nKERALA,1931,3.3,0.3,19.2,126.9,131.7,541.7,653.9,1199.2,163.2,149.3,164.3,106.5,3259.6,YES\\r\\nKERALA,1932,0.1,19.3,28.6,113,646.5,341,716.4,423.2,317.3,543.2,223.2,31.3,3403,YES\\r\\nKERALA,1933,1,9.3,36.9,139.5,738.8,859.3,773.4,479.5,469.7,397,126.1,42.3,4072.9,YES\\r\\nKERALA,1934,74.5,1.7,47.7,92.4,106.7,852.9,415,337.2,48.4,335.9,93.4,4.9,2410.7,NO\\r\\nKERALA,1935,23.9,8.3,18.1,120.7,56.6,431.3,687.3,280.9,283.3,403.8,153,30.9,2498.2,NO\\r\\nKERALA,1936,1.2,16.5,116,34,466.5,620.8,672.1,367.9,286.7,231.7,211.1,18.6,3043.3,YES\\r\\nKERALA,1937,6.5,21.2,58.7,175.5,137.1,485.6,970.5,281.2,139.8,401.9,121,19.1,2818.2,NO\\r\\nKERALA,1938,0.3,79,53.3,164.5,179.6,681.6,648.6,287.9,223.2,223.7,69.5,22.9,2634.1,NO\\r\\nKERALA,1939,13.6,3.6,24.9,172.8,105.1,625.8,749.6,459.9,134.1,339.8,298.1,10.2,2937.5,YES\\r\\nKERALA,1940,0.6,1.5,3.8,126.5,217.4,606.4,877.3,610.8,68.2,257.7,287.5,60.1,3117.8,YES\\r\\nKERALA,1941,15.9,4.6,12.7,101.9,417.5,797.6,517.9,458.5,257.9,221.6,220.5,84.6,3111.1,YES\\r\\nKERALA,1942,2.4,4.7,23.2,180.3,191.9,813.6,828.8,329.3,99.8,374.4,84.7,117.9,3050.9,YES\\r\\nKERALA,1943,83.5,14.6,38.4,107.5,478.4,794.5,831.6,183.3,257.6,427.2,223.4,24.3,3464.2,YES\\r\\nKERALA,1944,6.4,26.6,61.6,61.6,212.7,498.9,614.1,230.7,155,289,244.1,89.2,2490,NO\\r\\nKERALA,1945,4.4,9.9,12.7,104.1,53.4,549.8,704,351.8,110.9,253.8,259.5,18,2432.4,NO\\r\\nKERALA,1946,1.8,5.4,108.4,139.8,83,919,671.7,695.6,199.4,266.1,273,202.3,3565.5,YES\\r\\nKERALA,1947,22.2,27.3,98,142.2,85.7,556.1,669.3,739.6,394.5,183.7,32.4,47,2998.1,YES\\r\\nKERALA,1948,43,8.3,48.2,125,212.3,910.2,619,487.9,166.6,183.9,215.6,19.2,3039.2,YES\\r\\nKERALA,1949,0.6,1.8,4.5,98.1,440,536.3,758.7,445.2,354.5,229.1,71.9,1.8,2942.6,YES\\r\\nKERALA,1950,0.1,53.7,31.1,68.5,242,638.3,905.7,387.3,411.6,250.4,149.2,8.8,3146.6,YES\\r\\nKERALA,1951,6.6,6.5,41.6,175.9,148.5,774.1,544.6,190.6,313.8,250.6,229.6,23.2,2705.5,NO\\r\\nKERALA,1952,5.2,48.2,20.8,112.2,214.6,576.7,430,413.6,57.4,339.6,49.6,66.9,2334.8,NO\\r\\nKERALA,1953,13.1,22.6,18.5,132.4,55.4,340.5,1027.6,356.4,100.5,410.5,62.2,5.1,2544.9,NO\\r\\nKERALA,1954,23.5,2.8,90.6,136.9,179.5,798.3,640.5,467,201.6,303.1,31.6,62.5,2938,YES\\r\\nKERALA,1955,4.2,6.3,28.2,125.9,544.2,782.4,392.8,236,438.5,378.2,178.1,19.8,3134.7,YES\\r\\nKERALA,1956,7.9,11.7,15.1,151.6,351.3,755.4,466.8,319.5,178.4,353.3,178.2,9.1,2798.4,NO\\r\\nKERALA,1957,1.2,16,25.7,70.2,381.2,872,835.3,358.8,41.3,280.1,192.5,28.9,3103.3,YES\\r\\nKERALA,1958,4.4,19.3,57.3,135.1,353.5,713.3,622.7,526.6,86.1,191,206.1,7.7,2923.1,YES\\r\\nKERALA,1959,3,21.4,6.3,150.7,347.2,872.8,1155.7,397.3,405.5,200.4,151.9,34,3746,YES\\r\\nKERALA,1960,9.4,8.4,44.4,206.6,540,480.3,750.9,336.8,371.2,255.9,358,23.7,3385.5,YES\\r\\nKERALA,1961,13.7,31.3,11.4,94.1,500.5,1005.2,1146.5,678.3,399.3,274.2,85.9,17.5,4257.8,YES\\r\\nKERALA,1962,28.4,54.7,39.6,95.1,472.4,244.9,951.1,510.7,394.9,475.6,31.5,76.9,3375.8,YES\\r\\nKERALA,1963,30.2,24.8,69.8,96.3,157.1,393.3,720.2,511,223.9,282.6,93.4,48.4,2651.1,NO\\r\\nKERALA,1964,1.1,7.8,67.2,83.3,94.8,379.4,754.2,548,398.2,325.7,191.7,17.8,2869.1,NO\\r\\nKERALA,1965,9.1,0.9,28.3,109.8,214.5,597.7,465.1,296.1,150.1,183.7,131.7,155.5,2342.4,NO\\r\\nKERALA,1966,3,6.9,67.7,167.4,95.2,496.2,601.9,202.1,293.2,392.3,245.4,50.5,2621.7,NO\\r\\nKERALA,1967,14.3,0.1,24.6,70.1,244.9,541.7,741.4,508.4,145.8,172.7,74,31.1,2569.1,NO\\r\\nKERALA,1968,7.3,30.5,89.2,133.3,90,696.4,1308.9,380.7,325.4,178.9,119.4,32.7,3392.7,YES\\r\\nKERALA,1969,2.7,6.4,19.4,117.2,227.4,550.5,818.8,284.8,216.4,235.6,119.4,66.3,2665,NO\\r\\nKERALA,1970,12.9,17.6,25.8,132.7,289.1,535.3,558.1,554.8,212.5,278.3,80.5,5.7,2703.5,NO\\r\\nKERALA,1971,31.6,18.5,20,113,317.5,889.6,648.6,385.2,331.2,220.9,38.3,62.3,3076.8,YES\\r\\nKERALA,1972,2.6,7.5,2.5,87.5,436,401.8,714.4,294.9,185.7,351.5,140.5,114.3,2739.4,NO\\r\\nKERALA,1973,0,0.3,12.3,131.5,119.9,617,583.5,487.5,61.3,260.8,84.5,53.8,2412.5,NO\\r\\nKERALA,1974,1.6,5.4,16,128,221.5,266.9,1004.2,533.6,383.6,142.1,61,3.6,2767.4,NO\\r\\nKERALA,1975,5.2,21.4,63.4,123.8,162.2,864.4,531.3,675.9,457.7,368.9,204.3,19.9,3498.4,YES\\r\\nKERALA,1976,0.1,1.5,21,134.5,75.8,196.8,641.5,342.6,116.2,221.3,286.7,30.8,2068.8,NO\\r\\nKERALA,1977,1.1,15.7,28.3,102.3,306.4,599.6,753.3,234.2,201.3,437,361.7,6.7,3047.6,YES\\r\\nKERALA,1978,3.3,14.7,31.4,73.9,396.8,758.1,686.7,516.8,119.4,171,365.6,39,3176.7,YES\\r\\nKERALA,1979,2.4,30,11.7,42,127.7,582.9,662.2,383.7,211.7,163.8,261.7,23.3,2503,NO\\r\\nKERALA,1980,0,0.9,20.8,114.8,105.3,745.9,754,438.1,139.5,282.3,162.3,39.5,2803.4,NO\\r\\nKERALA,1981,7,6.8,28.5,75.9,166.3,912.4,489.8,495.6,376.6,265,138.6,43.3,3005.9,YES\\r\\nKERALA,1982,0.7,0.1,21.9,60.4,148.2,612.2,511.5,495,70.6,164.4,127.5,10.8,2223.3,NO\\r\\nKERALA,1983,0.2,1.5,0.9,13.1,76,322.8,583.2,579.9,421.1,136.2,116.5,69.1,2320.3,NO\\r\\nKERALA,1984,36.8,60,95.3,162.1,84.6,842.6,653.6,284.4,171.1,286,67.7,18,2762.1,NO\\r\\nKERALA,1985,61.2,6.1,29.3,66.6,254.2,828.7,388.9,315.3,117.6,204,74.9,44,2390.5,NO\\r\\nKERALA,1986,5.6,18.7,11.2,63.1,126.7,597.9,324.8,340.3,235.4,165.5,194.7,9.5,2093.2,NO\\r\\nKERALA,1987,0.6,0.8,4.3,57.2,108.3,572.6,221,396.6,157,272.1,216,131.1,2137.6,NO\\r\\nKERALA,1988,0.8,17.5,38.1,177.6,157.2,511.3,502.8,379.8,451.7,68.5,67,31.1,2403.5,NO\\r\\nKERALA,1989,10.3,0,30.1,141.5,169.4,657.5,450.7,285.5,271.1,308,92.9,5.6,2422.7,NO\\r\\nKERALA,1990,14.9,4.8,18,41.8,488.5,528.6,635.4,370.8,103.3,323.2,158.8,5.2,2693.1,NO\\r\\nKERALA,1991,10.9,4.4,33.2,97,113.4,1096.1,905.5,465.5,48.5,307.8,99.9,2.3,3184.5,YES\\r\\nKERALA,1992,2.4,0.9,0.1,43,218.4,819.3,767.8,508,297.5,290.7,287.6,3.7,3239.5,YES\\r\\nKERALA,1993,0,17.8,20.1,66.5,159,657.1,776.1,301.9,88,431.2,153.8,46.2,2717.7,NO\\r\\nKERALA,1994,24.3,27.1,18.1,154.5,141.3,845,955.5,479.9,212.6,428.4,117.6,6.5,3410.8,YES\\r\\nKERALA,1995,10.3,6.5,37.3,134.9,355.6,493.4,702.5,457.3,280,198.3,182.6,0.1,2858.8,NO\\r\\nKERALA,1996,2.8,9.1,14.4,124.3,74.3,572.4,696,327.4,342.7,294.1,89.9,62.5,2610,NO\\r\\nKERALA,1997,2.1,1.5,36.1,60.6,133.6,544.2,970.5,536,292.2,288.9,298.4,88.4,3252.4,YES\\r\\nKERALA,1998,6,2.1,8.1,61.1,151.6,732.5,641.4,371.8,517.6,444.8,135,79.4,3151.5,YES\\r\\nKERALA,1999,1.8,23.8,21.4,111.6,453.2,607.3,700.4,266.3,88,567.9,68.1,4.9,2914.6,NO\\r\\nKERALA,2000,11.7,57.8,21.5,96.3,124.5,633.8,343.2,566.5,195.8,214.2,78.1,69.1,2412.6,NO\\r\\nKERALA,2001,16.5,28.3,7,238,238.6,715.3,598.5,361.3,216.8,319.6,181,10.1,2931.1,NO\\r\\nKERALA,2002,4.7,8.7,35.7,117.3,330.8,503.1,318.7,438.2,99,511.7,137.5,2.1,2507.4,NO\\r\\nKERALA,2003,0.7,50.9,82.1,134.4,91,566.7,532,350.3,93.6,407,76.4,9.7,2394.9,NO\\r\\nKERALA,2004,2.4,8.1,37.9,113.2,610.9,673.4,385.4,417.9,192.8,320.6,120.7,2.7,2886.1,NO\\r\\nKERALA,2005,19.8,7,25.3,205.9,134.8,619.2,832.7,291,414.7,240.1,184.3,56.4,3031.1,YES\\r\\nKERALA,2006,8.1,0.5,90.7,65.3,521.2,482.4,804,432.6,474.8,376.4,162.8,1.8,3420.6,YES\\r\\nKERALA,2007,0.5,5.6,7.3,138.5,192.7,705.9,966.3,489.6,526.7,357.2,87.4,11.9,3489.6,YES\\r\\nKERALA,2008,0.8,30.3,217.2,108.4,81.2,469.9,505.1,349,347,343.4,55.4,17,2524.5,NO\\r\\nKERALA,2009,3.3,1.5,62.6,69,191.6,438.2,924.9,269.3,326.5,205.2,274.4,44.2,2810.6,NO\\r\\nKERALA,2010,18.6,1,31.4,138.9,190.6,667.5,629,356,275.6,441.4,335.1,46.8,3131.8,YES\\r\\nKERALA,2011,20.5,45.7,24.1,165.2,124.2,788.5,536.8,492.7,391.2,227.2,169.7,49.5,3035.1,YES\\r\\nKERALA,2012,7.4,11,21,171.1,95.3,430.3,362.6,501.6,241.1,187.5,112.9,9.4,2151.1,NO\\r\\nKERALA,2013,3.9,40.1,49.9,49.3,119.3,1042.7,830.2,369.7,318.6,259.9,154.9,17,3255.4,YES\\r\\nKERALA,2014,4.6,10.3,17.9,95.7,251,454.4,677.8,733.9,298.8,355.5,99.5,47.2,3046.4,YES\\r\\nKERALA,2015,3.1,5.8,50.1,214.1,201.8,563.6,406,252.2,292.9,308.1,223.6,79.4,2600.6,NO\\r\\nKERALA,2016,2.4,3.8,35.9,143,186.4,522.2,412.3,325.5,173.2,225.9,125.4,23.6,2176.6,NO\\r\\nKERALA ,2017,1.9,6.8,8.9,43.6,173.5,498.5,319.6,531.8,209.5,192.4,92.5,38.1,2117.1,NO\\r\\nKERALA,2018,29.1,52.1,48.6,116.4,183.8,625.4,1048.5,1398.9,423.6,356.1,125.4,65.1,4473,YES\\r\\n'}"
            ]
          },
          "metadata": {
            "tags": []
          },
          "execution_count": 2
        }
      ]
    },
    {
      "cell_type": "code",
      "metadata": {
        "colab": {
          "base_uri": "https://localhost:8080/",
          "height": 399
        },
        "id": "sBlbixFFTaxW",
        "outputId": "3cf2b938-a406-4c34-9686-ae2bd92248ce"
      },
      "source": [
        "df=pd.read_csv(\"kerala.csv\") \r\n",
        "df"
      ],
      "execution_count": null,
      "outputs": [
        {
          "output_type": "execute_result",
          "data": {
            "text/html": [
              "<div>\n",
              "<style scoped>\n",
              "    .dataframe tbody tr th:only-of-type {\n",
              "        vertical-align: middle;\n",
              "    }\n",
              "\n",
              "    .dataframe tbody tr th {\n",
              "        vertical-align: top;\n",
              "    }\n",
              "\n",
              "    .dataframe thead th {\n",
              "        text-align: right;\n",
              "    }\n",
              "</style>\n",
              "<table border=\"1\" class=\"dataframe\">\n",
              "  <thead>\n",
              "    <tr style=\"text-align: right;\">\n",
              "      <th></th>\n",
              "      <th>SUBDIVISION</th>\n",
              "      <th>YEAR</th>\n",
              "      <th>JAN</th>\n",
              "      <th>FEB</th>\n",
              "      <th>MAR</th>\n",
              "      <th>APR</th>\n",
              "      <th>MAY</th>\n",
              "      <th>JUN</th>\n",
              "      <th>JUL</th>\n",
              "      <th>AUG</th>\n",
              "      <th>SEP</th>\n",
              "      <th>OCT</th>\n",
              "      <th>NOV</th>\n",
              "      <th>DEC</th>\n",
              "      <th>ANNUAL RAINFALL</th>\n",
              "      <th>FLOODS</th>\n",
              "    </tr>\n",
              "  </thead>\n",
              "  <tbody>\n",
              "    <tr>\n",
              "      <th>0</th>\n",
              "      <td>KERALA</td>\n",
              "      <td>1901</td>\n",
              "      <td>28.7</td>\n",
              "      <td>44.7</td>\n",
              "      <td>51.6</td>\n",
              "      <td>160.0</td>\n",
              "      <td>174.7</td>\n",
              "      <td>824.6</td>\n",
              "      <td>743.0</td>\n",
              "      <td>357.5</td>\n",
              "      <td>197.7</td>\n",
              "      <td>266.9</td>\n",
              "      <td>350.8</td>\n",
              "      <td>48.4</td>\n",
              "      <td>3248.6</td>\n",
              "      <td>YES</td>\n",
              "    </tr>\n",
              "    <tr>\n",
              "      <th>1</th>\n",
              "      <td>KERALA</td>\n",
              "      <td>1902</td>\n",
              "      <td>6.7</td>\n",
              "      <td>2.6</td>\n",
              "      <td>57.3</td>\n",
              "      <td>83.9</td>\n",
              "      <td>134.5</td>\n",
              "      <td>390.9</td>\n",
              "      <td>1205.0</td>\n",
              "      <td>315.8</td>\n",
              "      <td>491.6</td>\n",
              "      <td>358.4</td>\n",
              "      <td>158.3</td>\n",
              "      <td>121.5</td>\n",
              "      <td>3326.6</td>\n",
              "      <td>YES</td>\n",
              "    </tr>\n",
              "    <tr>\n",
              "      <th>2</th>\n",
              "      <td>KERALA</td>\n",
              "      <td>1903</td>\n",
              "      <td>3.2</td>\n",
              "      <td>18.6</td>\n",
              "      <td>3.1</td>\n",
              "      <td>83.6</td>\n",
              "      <td>249.7</td>\n",
              "      <td>558.6</td>\n",
              "      <td>1022.5</td>\n",
              "      <td>420.2</td>\n",
              "      <td>341.8</td>\n",
              "      <td>354.1</td>\n",
              "      <td>157.0</td>\n",
              "      <td>59.0</td>\n",
              "      <td>3271.2</td>\n",
              "      <td>YES</td>\n",
              "    </tr>\n",
              "    <tr>\n",
              "      <th>3</th>\n",
              "      <td>KERALA</td>\n",
              "      <td>1904</td>\n",
              "      <td>23.7</td>\n",
              "      <td>3.0</td>\n",
              "      <td>32.2</td>\n",
              "      <td>71.5</td>\n",
              "      <td>235.7</td>\n",
              "      <td>1098.2</td>\n",
              "      <td>725.5</td>\n",
              "      <td>351.8</td>\n",
              "      <td>222.7</td>\n",
              "      <td>328.1</td>\n",
              "      <td>33.9</td>\n",
              "      <td>3.3</td>\n",
              "      <td>3129.7</td>\n",
              "      <td>YES</td>\n",
              "    </tr>\n",
              "    <tr>\n",
              "      <th>4</th>\n",
              "      <td>KERALA</td>\n",
              "      <td>1905</td>\n",
              "      <td>1.2</td>\n",
              "      <td>22.3</td>\n",
              "      <td>9.4</td>\n",
              "      <td>105.9</td>\n",
              "      <td>263.3</td>\n",
              "      <td>850.2</td>\n",
              "      <td>520.5</td>\n",
              "      <td>293.6</td>\n",
              "      <td>217.2</td>\n",
              "      <td>383.5</td>\n",
              "      <td>74.4</td>\n",
              "      <td>0.2</td>\n",
              "      <td>2741.6</td>\n",
              "      <td>NO</td>\n",
              "    </tr>\n",
              "    <tr>\n",
              "      <th>...</th>\n",
              "      <td>...</td>\n",
              "      <td>...</td>\n",
              "      <td>...</td>\n",
              "      <td>...</td>\n",
              "      <td>...</td>\n",
              "      <td>...</td>\n",
              "      <td>...</td>\n",
              "      <td>...</td>\n",
              "      <td>...</td>\n",
              "      <td>...</td>\n",
              "      <td>...</td>\n",
              "      <td>...</td>\n",
              "      <td>...</td>\n",
              "      <td>...</td>\n",
              "      <td>...</td>\n",
              "      <td>...</td>\n",
              "    </tr>\n",
              "    <tr>\n",
              "      <th>113</th>\n",
              "      <td>KERALA</td>\n",
              "      <td>2014</td>\n",
              "      <td>4.6</td>\n",
              "      <td>10.3</td>\n",
              "      <td>17.9</td>\n",
              "      <td>95.7</td>\n",
              "      <td>251.0</td>\n",
              "      <td>454.4</td>\n",
              "      <td>677.8</td>\n",
              "      <td>733.9</td>\n",
              "      <td>298.8</td>\n",
              "      <td>355.5</td>\n",
              "      <td>99.5</td>\n",
              "      <td>47.2</td>\n",
              "      <td>3046.4</td>\n",
              "      <td>YES</td>\n",
              "    </tr>\n",
              "    <tr>\n",
              "      <th>114</th>\n",
              "      <td>KERALA</td>\n",
              "      <td>2015</td>\n",
              "      <td>3.1</td>\n",
              "      <td>5.8</td>\n",
              "      <td>50.1</td>\n",
              "      <td>214.1</td>\n",
              "      <td>201.8</td>\n",
              "      <td>563.6</td>\n",
              "      <td>406.0</td>\n",
              "      <td>252.2</td>\n",
              "      <td>292.9</td>\n",
              "      <td>308.1</td>\n",
              "      <td>223.6</td>\n",
              "      <td>79.4</td>\n",
              "      <td>2600.6</td>\n",
              "      <td>NO</td>\n",
              "    </tr>\n",
              "    <tr>\n",
              "      <th>115</th>\n",
              "      <td>KERALA</td>\n",
              "      <td>2016</td>\n",
              "      <td>2.4</td>\n",
              "      <td>3.8</td>\n",
              "      <td>35.9</td>\n",
              "      <td>143.0</td>\n",
              "      <td>186.4</td>\n",
              "      <td>522.2</td>\n",
              "      <td>412.3</td>\n",
              "      <td>325.5</td>\n",
              "      <td>173.2</td>\n",
              "      <td>225.9</td>\n",
              "      <td>125.4</td>\n",
              "      <td>23.6</td>\n",
              "      <td>2176.6</td>\n",
              "      <td>NO</td>\n",
              "    </tr>\n",
              "    <tr>\n",
              "      <th>116</th>\n",
              "      <td>KERALA</td>\n",
              "      <td>2017</td>\n",
              "      <td>1.9</td>\n",
              "      <td>6.8</td>\n",
              "      <td>8.9</td>\n",
              "      <td>43.6</td>\n",
              "      <td>173.5</td>\n",
              "      <td>498.5</td>\n",
              "      <td>319.6</td>\n",
              "      <td>531.8</td>\n",
              "      <td>209.5</td>\n",
              "      <td>192.4</td>\n",
              "      <td>92.5</td>\n",
              "      <td>38.1</td>\n",
              "      <td>2117.1</td>\n",
              "      <td>NO</td>\n",
              "    </tr>\n",
              "    <tr>\n",
              "      <th>117</th>\n",
              "      <td>KERALA</td>\n",
              "      <td>2018</td>\n",
              "      <td>29.1</td>\n",
              "      <td>52.1</td>\n",
              "      <td>48.6</td>\n",
              "      <td>116.4</td>\n",
              "      <td>183.8</td>\n",
              "      <td>625.4</td>\n",
              "      <td>1048.5</td>\n",
              "      <td>1398.9</td>\n",
              "      <td>423.6</td>\n",
              "      <td>356.1</td>\n",
              "      <td>125.4</td>\n",
              "      <td>65.1</td>\n",
              "      <td>4473.0</td>\n",
              "      <td>YES</td>\n",
              "    </tr>\n",
              "  </tbody>\n",
              "</table>\n",
              "<p>118 rows × 16 columns</p>\n",
              "</div>"
            ],
            "text/plain": [
              "    SUBDIVISION  YEAR   JAN   FEB  ...    NOV    DEC   ANNUAL RAINFALL  FLOODS\n",
              "0        KERALA  1901  28.7  44.7  ...  350.8   48.4            3248.6     YES\n",
              "1        KERALA  1902   6.7   2.6  ...  158.3  121.5            3326.6     YES\n",
              "2        KERALA  1903   3.2  18.6  ...  157.0   59.0            3271.2     YES\n",
              "3        KERALA  1904  23.7   3.0  ...   33.9    3.3            3129.7     YES\n",
              "4        KERALA  1905   1.2  22.3  ...   74.4    0.2            2741.6      NO\n",
              "..          ...   ...   ...   ...  ...    ...    ...               ...     ...\n",
              "113      KERALA  2014   4.6  10.3  ...   99.5   47.2            3046.4     YES\n",
              "114      KERALA  2015   3.1   5.8  ...  223.6   79.4            2600.6      NO\n",
              "115      KERALA  2016   2.4   3.8  ...  125.4   23.6            2176.6      NO\n",
              "116     KERALA   2017   1.9   6.8  ...   92.5   38.1            2117.1      NO\n",
              "117      KERALA  2018  29.1  52.1  ...  125.4   65.1            4473.0     YES\n",
              "\n",
              "[118 rows x 16 columns]"
            ]
          },
          "metadata": {
            "tags": []
          },
          "execution_count": 3
        }
      ]
    },
    {
      "cell_type": "code",
      "metadata": {
        "colab": {
          "base_uri": "https://localhost:8080/",
          "height": 204
        },
        "id": "aayd2h_TTcA3",
        "outputId": "34e8bca6-fa0d-41e6-94bd-c037e57fe693"
      },
      "source": [
        "df.head()"
      ],
      "execution_count": null,
      "outputs": [
        {
          "output_type": "execute_result",
          "data": {
            "text/html": [
              "<div>\n",
              "<style scoped>\n",
              "    .dataframe tbody tr th:only-of-type {\n",
              "        vertical-align: middle;\n",
              "    }\n",
              "\n",
              "    .dataframe tbody tr th {\n",
              "        vertical-align: top;\n",
              "    }\n",
              "\n",
              "    .dataframe thead th {\n",
              "        text-align: right;\n",
              "    }\n",
              "</style>\n",
              "<table border=\"1\" class=\"dataframe\">\n",
              "  <thead>\n",
              "    <tr style=\"text-align: right;\">\n",
              "      <th></th>\n",
              "      <th>SUBDIVISION</th>\n",
              "      <th>YEAR</th>\n",
              "      <th>JAN</th>\n",
              "      <th>FEB</th>\n",
              "      <th>MAR</th>\n",
              "      <th>APR</th>\n",
              "      <th>MAY</th>\n",
              "      <th>JUN</th>\n",
              "      <th>JUL</th>\n",
              "      <th>AUG</th>\n",
              "      <th>SEP</th>\n",
              "      <th>OCT</th>\n",
              "      <th>NOV</th>\n",
              "      <th>DEC</th>\n",
              "      <th>ANNUAL RAINFALL</th>\n",
              "      <th>FLOODS</th>\n",
              "    </tr>\n",
              "  </thead>\n",
              "  <tbody>\n",
              "    <tr>\n",
              "      <th>0</th>\n",
              "      <td>KERALA</td>\n",
              "      <td>1901</td>\n",
              "      <td>28.7</td>\n",
              "      <td>44.7</td>\n",
              "      <td>51.6</td>\n",
              "      <td>160.0</td>\n",
              "      <td>174.7</td>\n",
              "      <td>824.6</td>\n",
              "      <td>743.0</td>\n",
              "      <td>357.5</td>\n",
              "      <td>197.7</td>\n",
              "      <td>266.9</td>\n",
              "      <td>350.8</td>\n",
              "      <td>48.4</td>\n",
              "      <td>3248.6</td>\n",
              "      <td>YES</td>\n",
              "    </tr>\n",
              "    <tr>\n",
              "      <th>1</th>\n",
              "      <td>KERALA</td>\n",
              "      <td>1902</td>\n",
              "      <td>6.7</td>\n",
              "      <td>2.6</td>\n",
              "      <td>57.3</td>\n",
              "      <td>83.9</td>\n",
              "      <td>134.5</td>\n",
              "      <td>390.9</td>\n",
              "      <td>1205.0</td>\n",
              "      <td>315.8</td>\n",
              "      <td>491.6</td>\n",
              "      <td>358.4</td>\n",
              "      <td>158.3</td>\n",
              "      <td>121.5</td>\n",
              "      <td>3326.6</td>\n",
              "      <td>YES</td>\n",
              "    </tr>\n",
              "    <tr>\n",
              "      <th>2</th>\n",
              "      <td>KERALA</td>\n",
              "      <td>1903</td>\n",
              "      <td>3.2</td>\n",
              "      <td>18.6</td>\n",
              "      <td>3.1</td>\n",
              "      <td>83.6</td>\n",
              "      <td>249.7</td>\n",
              "      <td>558.6</td>\n",
              "      <td>1022.5</td>\n",
              "      <td>420.2</td>\n",
              "      <td>341.8</td>\n",
              "      <td>354.1</td>\n",
              "      <td>157.0</td>\n",
              "      <td>59.0</td>\n",
              "      <td>3271.2</td>\n",
              "      <td>YES</td>\n",
              "    </tr>\n",
              "    <tr>\n",
              "      <th>3</th>\n",
              "      <td>KERALA</td>\n",
              "      <td>1904</td>\n",
              "      <td>23.7</td>\n",
              "      <td>3.0</td>\n",
              "      <td>32.2</td>\n",
              "      <td>71.5</td>\n",
              "      <td>235.7</td>\n",
              "      <td>1098.2</td>\n",
              "      <td>725.5</td>\n",
              "      <td>351.8</td>\n",
              "      <td>222.7</td>\n",
              "      <td>328.1</td>\n",
              "      <td>33.9</td>\n",
              "      <td>3.3</td>\n",
              "      <td>3129.7</td>\n",
              "      <td>YES</td>\n",
              "    </tr>\n",
              "    <tr>\n",
              "      <th>4</th>\n",
              "      <td>KERALA</td>\n",
              "      <td>1905</td>\n",
              "      <td>1.2</td>\n",
              "      <td>22.3</td>\n",
              "      <td>9.4</td>\n",
              "      <td>105.9</td>\n",
              "      <td>263.3</td>\n",
              "      <td>850.2</td>\n",
              "      <td>520.5</td>\n",
              "      <td>293.6</td>\n",
              "      <td>217.2</td>\n",
              "      <td>383.5</td>\n",
              "      <td>74.4</td>\n",
              "      <td>0.2</td>\n",
              "      <td>2741.6</td>\n",
              "      <td>NO</td>\n",
              "    </tr>\n",
              "  </tbody>\n",
              "</table>\n",
              "</div>"
            ],
            "text/plain": [
              "  SUBDIVISION  YEAR   JAN   FEB  ...    NOV    DEC   ANNUAL RAINFALL  FLOODS\n",
              "0      KERALA  1901  28.7  44.7  ...  350.8   48.4            3248.6     YES\n",
              "1      KERALA  1902   6.7   2.6  ...  158.3  121.5            3326.6     YES\n",
              "2      KERALA  1903   3.2  18.6  ...  157.0   59.0            3271.2     YES\n",
              "3      KERALA  1904  23.7   3.0  ...   33.9    3.3            3129.7     YES\n",
              "4      KERALA  1905   1.2  22.3  ...   74.4    0.2            2741.6      NO\n",
              "\n",
              "[5 rows x 16 columns]"
            ]
          },
          "metadata": {
            "tags": []
          },
          "execution_count": 4
        }
      ]
    },
    {
      "cell_type": "code",
      "metadata": {
        "colab": {
          "base_uri": "https://localhost:8080/",
          "height": 297
        },
        "id": "zyDcV3M5TfGZ",
        "outputId": "61a17e8a-b11d-4e57-b79b-009544768414"
      },
      "source": [
        "df.describe()"
      ],
      "execution_count": null,
      "outputs": [
        {
          "output_type": "execute_result",
          "data": {
            "text/html": [
              "<div>\n",
              "<style scoped>\n",
              "    .dataframe tbody tr th:only-of-type {\n",
              "        vertical-align: middle;\n",
              "    }\n",
              "\n",
              "    .dataframe tbody tr th {\n",
              "        vertical-align: top;\n",
              "    }\n",
              "\n",
              "    .dataframe thead th {\n",
              "        text-align: right;\n",
              "    }\n",
              "</style>\n",
              "<table border=\"1\" class=\"dataframe\">\n",
              "  <thead>\n",
              "    <tr style=\"text-align: right;\">\n",
              "      <th></th>\n",
              "      <th>YEAR</th>\n",
              "      <th>JAN</th>\n",
              "      <th>FEB</th>\n",
              "      <th>MAR</th>\n",
              "      <th>APR</th>\n",
              "      <th>MAY</th>\n",
              "      <th>JUN</th>\n",
              "      <th>JUL</th>\n",
              "      <th>AUG</th>\n",
              "      <th>SEP</th>\n",
              "      <th>OCT</th>\n",
              "      <th>NOV</th>\n",
              "      <th>DEC</th>\n",
              "      <th>ANNUAL RAINFALL</th>\n",
              "    </tr>\n",
              "  </thead>\n",
              "  <tbody>\n",
              "    <tr>\n",
              "      <th>count</th>\n",
              "      <td>118.000000</td>\n",
              "      <td>118.000000</td>\n",
              "      <td>118.000000</td>\n",
              "      <td>118.000000</td>\n",
              "      <td>118.000000</td>\n",
              "      <td>118.000000</td>\n",
              "      <td>118.000000</td>\n",
              "      <td>118.000000</td>\n",
              "      <td>118.000000</td>\n",
              "      <td>118.000000</td>\n",
              "      <td>118.000000</td>\n",
              "      <td>118.000000</td>\n",
              "      <td>118.000000</td>\n",
              "      <td>118.000000</td>\n",
              "    </tr>\n",
              "    <tr>\n",
              "      <th>mean</th>\n",
              "      <td>1959.500000</td>\n",
              "      <td>12.218644</td>\n",
              "      <td>15.633898</td>\n",
              "      <td>36.670339</td>\n",
              "      <td>110.330508</td>\n",
              "      <td>228.644915</td>\n",
              "      <td>651.617797</td>\n",
              "      <td>698.220339</td>\n",
              "      <td>430.369492</td>\n",
              "      <td>246.207627</td>\n",
              "      <td>293.207627</td>\n",
              "      <td>162.311017</td>\n",
              "      <td>40.009322</td>\n",
              "      <td>2925.405085</td>\n",
              "    </tr>\n",
              "    <tr>\n",
              "      <th>std</th>\n",
              "      <td>34.207699</td>\n",
              "      <td>15.473766</td>\n",
              "      <td>16.406290</td>\n",
              "      <td>30.063862</td>\n",
              "      <td>44.633452</td>\n",
              "      <td>147.548778</td>\n",
              "      <td>186.181363</td>\n",
              "      <td>228.988966</td>\n",
              "      <td>181.980463</td>\n",
              "      <td>121.901131</td>\n",
              "      <td>93.705253</td>\n",
              "      <td>83.200485</td>\n",
              "      <td>36.676330</td>\n",
              "      <td>452.169407</td>\n",
              "    </tr>\n",
              "    <tr>\n",
              "      <th>min</th>\n",
              "      <td>1901.000000</td>\n",
              "      <td>0.000000</td>\n",
              "      <td>0.000000</td>\n",
              "      <td>0.100000</td>\n",
              "      <td>13.100000</td>\n",
              "      <td>53.400000</td>\n",
              "      <td>196.800000</td>\n",
              "      <td>167.500000</td>\n",
              "      <td>178.600000</td>\n",
              "      <td>41.300000</td>\n",
              "      <td>68.500000</td>\n",
              "      <td>31.500000</td>\n",
              "      <td>0.100000</td>\n",
              "      <td>2068.800000</td>\n",
              "    </tr>\n",
              "    <tr>\n",
              "      <th>25%</th>\n",
              "      <td>1930.250000</td>\n",
              "      <td>2.175000</td>\n",
              "      <td>4.700000</td>\n",
              "      <td>18.100000</td>\n",
              "      <td>74.350000</td>\n",
              "      <td>125.050000</td>\n",
              "      <td>535.550000</td>\n",
              "      <td>533.200000</td>\n",
              "      <td>316.725000</td>\n",
              "      <td>155.425000</td>\n",
              "      <td>222.125000</td>\n",
              "      <td>93.025000</td>\n",
              "      <td>10.350000</td>\n",
              "      <td>2613.525000</td>\n",
              "    </tr>\n",
              "    <tr>\n",
              "      <th>50%</th>\n",
              "      <td>1959.500000</td>\n",
              "      <td>5.800000</td>\n",
              "      <td>8.350000</td>\n",
              "      <td>28.400000</td>\n",
              "      <td>110.400000</td>\n",
              "      <td>184.600000</td>\n",
              "      <td>625.600000</td>\n",
              "      <td>691.650000</td>\n",
              "      <td>386.250000</td>\n",
              "      <td>223.550000</td>\n",
              "      <td>284.300000</td>\n",
              "      <td>152.450000</td>\n",
              "      <td>31.100000</td>\n",
              "      <td>2934.300000</td>\n",
              "    </tr>\n",
              "    <tr>\n",
              "      <th>75%</th>\n",
              "      <td>1988.750000</td>\n",
              "      <td>18.175000</td>\n",
              "      <td>21.400000</td>\n",
              "      <td>49.825000</td>\n",
              "      <td>136.450000</td>\n",
              "      <td>264.875000</td>\n",
              "      <td>786.975000</td>\n",
              "      <td>832.425000</td>\n",
              "      <td>500.100000</td>\n",
              "      <td>334.500000</td>\n",
              "      <td>355.150000</td>\n",
              "      <td>218.325000</td>\n",
              "      <td>54.025000</td>\n",
              "      <td>3170.400000</td>\n",
              "    </tr>\n",
              "    <tr>\n",
              "      <th>max</th>\n",
              "      <td>2018.000000</td>\n",
              "      <td>83.500000</td>\n",
              "      <td>79.000000</td>\n",
              "      <td>217.200000</td>\n",
              "      <td>238.000000</td>\n",
              "      <td>738.800000</td>\n",
              "      <td>1098.200000</td>\n",
              "      <td>1526.500000</td>\n",
              "      <td>1398.900000</td>\n",
              "      <td>526.700000</td>\n",
              "      <td>567.900000</td>\n",
              "      <td>365.600000</td>\n",
              "      <td>202.300000</td>\n",
              "      <td>4473.000000</td>\n",
              "    </tr>\n",
              "  </tbody>\n",
              "</table>\n",
              "</div>"
            ],
            "text/plain": [
              "              YEAR         JAN  ...         DEC   ANNUAL RAINFALL\n",
              "count   118.000000  118.000000  ...  118.000000        118.000000\n",
              "mean   1959.500000   12.218644  ...   40.009322       2925.405085\n",
              "std      34.207699   15.473766  ...   36.676330        452.169407\n",
              "min    1901.000000    0.000000  ...    0.100000       2068.800000\n",
              "25%    1930.250000    2.175000  ...   10.350000       2613.525000\n",
              "50%    1959.500000    5.800000  ...   31.100000       2934.300000\n",
              "75%    1988.750000   18.175000  ...   54.025000       3170.400000\n",
              "max    2018.000000   83.500000  ...  202.300000       4473.000000\n",
              "\n",
              "[8 rows x 14 columns]"
            ]
          },
          "metadata": {
            "tags": []
          },
          "execution_count": 5
        }
      ]
    },
    {
      "cell_type": "code",
      "metadata": {
        "colab": {
          "base_uri": "https://localhost:8080/"
        },
        "id": "Fp1dEmRmTk7c",
        "outputId": "3587b8d2-1227-4611-a6a3-8d2a9cc16d74"
      },
      "source": [
        "df.info()"
      ],
      "execution_count": null,
      "outputs": [
        {
          "output_type": "stream",
          "text": [
            "<class 'pandas.core.frame.DataFrame'>\n",
            "RangeIndex: 118 entries, 0 to 117\n",
            "Data columns (total 16 columns):\n",
            " #   Column            Non-Null Count  Dtype  \n",
            "---  ------            --------------  -----  \n",
            " 0   SUBDIVISION       118 non-null    object \n",
            " 1   YEAR              118 non-null    int64  \n",
            " 2   JAN               118 non-null    float64\n",
            " 3   FEB               118 non-null    float64\n",
            " 4   MAR               118 non-null    float64\n",
            " 5   APR               118 non-null    float64\n",
            " 6   MAY               118 non-null    float64\n",
            " 7   JUN               118 non-null    float64\n",
            " 8   JUL               118 non-null    float64\n",
            " 9   AUG               118 non-null    float64\n",
            " 10  SEP               118 non-null    float64\n",
            " 11  OCT               118 non-null    float64\n",
            " 12  NOV               118 non-null    float64\n",
            " 13  DEC               118 non-null    float64\n",
            " 14   ANNUAL RAINFALL  118 non-null    float64\n",
            " 15  FLOODS            118 non-null    object \n",
            "dtypes: float64(13), int64(1), object(2)\n",
            "memory usage: 14.9+ KB\n"
          ],
          "name": "stdout"
        }
      ]
    },
    {
      "cell_type": "code",
      "metadata": {
        "id": "oSikgcNzTpc1"
      },
      "source": [
        "# Changing the target column to numeric values\r\n",
        "df[\"FLOODS\"] = df[\"FLOODS\"].map({\"YES\": 1, \"NO\": 0})"
      ],
      "execution_count": null,
      "outputs": []
    },
    {
      "cell_type": "code",
      "metadata": {
        "colab": {
          "base_uri": "https://localhost:8080/",
          "height": 204
        },
        "id": "EiQp3I7iTytb",
        "outputId": "17761070-38c3-457c-9b2b-5917c82c8192"
      },
      "source": [
        "df[\"JUN_GT_500\"] = (df[\"JUN\"] > 500).astype(\"int\")\r\n",
        "df[\"JUL_GT_500\"] = (df[\"JUL\"] > 500).astype(\"int\")\r\n",
        "df_small = df.loc[:, [\"YEAR\", \"JUN_GT_500\", \"JUL_GT_500\", \"FLOODS\"]]\r\n",
        "df_small[\"COUNT\"] =1\r\n",
        "df_small.head()"
      ],
      "execution_count": null,
      "outputs": [
        {
          "output_type": "execute_result",
          "data": {
            "text/html": [
              "<div>\n",
              "<style scoped>\n",
              "    .dataframe tbody tr th:only-of-type {\n",
              "        vertical-align: middle;\n",
              "    }\n",
              "\n",
              "    .dataframe tbody tr th {\n",
              "        vertical-align: top;\n",
              "    }\n",
              "\n",
              "    .dataframe thead th {\n",
              "        text-align: right;\n",
              "    }\n",
              "</style>\n",
              "<table border=\"1\" class=\"dataframe\">\n",
              "  <thead>\n",
              "    <tr style=\"text-align: right;\">\n",
              "      <th></th>\n",
              "      <th>YEAR</th>\n",
              "      <th>JUN_GT_500</th>\n",
              "      <th>JUL_GT_500</th>\n",
              "      <th>FLOODS</th>\n",
              "      <th>COUNT</th>\n",
              "    </tr>\n",
              "  </thead>\n",
              "  <tbody>\n",
              "    <tr>\n",
              "      <th>0</th>\n",
              "      <td>1901</td>\n",
              "      <td>1</td>\n",
              "      <td>1</td>\n",
              "      <td>1</td>\n",
              "      <td>1</td>\n",
              "    </tr>\n",
              "    <tr>\n",
              "      <th>1</th>\n",
              "      <td>1902</td>\n",
              "      <td>0</td>\n",
              "      <td>1</td>\n",
              "      <td>1</td>\n",
              "      <td>1</td>\n",
              "    </tr>\n",
              "    <tr>\n",
              "      <th>2</th>\n",
              "      <td>1903</td>\n",
              "      <td>1</td>\n",
              "      <td>1</td>\n",
              "      <td>1</td>\n",
              "      <td>1</td>\n",
              "    </tr>\n",
              "    <tr>\n",
              "      <th>3</th>\n",
              "      <td>1904</td>\n",
              "      <td>1</td>\n",
              "      <td>1</td>\n",
              "      <td>1</td>\n",
              "      <td>1</td>\n",
              "    </tr>\n",
              "    <tr>\n",
              "      <th>4</th>\n",
              "      <td>1905</td>\n",
              "      <td>1</td>\n",
              "      <td>1</td>\n",
              "      <td>0</td>\n",
              "      <td>1</td>\n",
              "    </tr>\n",
              "  </tbody>\n",
              "</table>\n",
              "</div>"
            ],
            "text/plain": [
              "   YEAR  JUN_GT_500  JUL_GT_500  FLOODS  COUNT\n",
              "0  1901           1           1       1      1\n",
              "1  1902           0           1       1      1\n",
              "2  1903           1           1       1      1\n",
              "3  1904           1           1       1      1\n",
              "4  1905           1           1       0      1"
            ]
          },
          "metadata": {
            "tags": []
          },
          "execution_count": 8
        }
      ]
    },
    {
      "cell_type": "code",
      "metadata": {
        "colab": {
          "base_uri": "https://localhost:8080/"
        },
        "id": "bAAXPlKxT5mC",
        "outputId": "b18af1b8-2986-4f53-f289-9a81cd984772"
      },
      "source": [
        "df_small.shape"
      ],
      "execution_count": null,
      "outputs": [
        {
          "output_type": "execute_result",
          "data": {
            "text/plain": [
              "(118, 5)"
            ]
          },
          "metadata": {
            "tags": []
          },
          "execution_count": 9
        }
      ]
    },
    {
      "cell_type": "code",
      "metadata": {
        "colab": {
          "base_uri": "https://localhost:8080/",
          "height": 142
        },
        "id": "WhG-sjrKT-Lj",
        "outputId": "1645fb24-ca96-4da1-b4ae-b6a3313c50c7"
      },
      "source": [
        "# Creating the tabular data based on the counts\r\n",
        "pd.crosstab(df_small[\"FLOODS\"], df_small[\"JUN_GT_500\"])"
      ],
      "execution_count": null,
      "outputs": [
        {
          "output_type": "execute_result",
          "data": {
            "text/html": [
              "<div>\n",
              "<style scoped>\n",
              "    .dataframe tbody tr th:only-of-type {\n",
              "        vertical-align: middle;\n",
              "    }\n",
              "\n",
              "    .dataframe tbody tr th {\n",
              "        vertical-align: top;\n",
              "    }\n",
              "\n",
              "    .dataframe thead th {\n",
              "        text-align: right;\n",
              "    }\n",
              "</style>\n",
              "<table border=\"1\" class=\"dataframe\">\n",
              "  <thead>\n",
              "    <tr style=\"text-align: right;\">\n",
              "      <th>JUN_GT_500</th>\n",
              "      <th>0</th>\n",
              "      <th>1</th>\n",
              "    </tr>\n",
              "    <tr>\n",
              "      <th>FLOODS</th>\n",
              "      <th></th>\n",
              "      <th></th>\n",
              "    </tr>\n",
              "  </thead>\n",
              "  <tbody>\n",
              "    <tr>\n",
              "      <th>0</th>\n",
              "      <td>19</td>\n",
              "      <td>39</td>\n",
              "    </tr>\n",
              "    <tr>\n",
              "      <th>1</th>\n",
              "      <td>6</td>\n",
              "      <td>54</td>\n",
              "    </tr>\n",
              "  </tbody>\n",
              "</table>\n",
              "</div>"
            ],
            "text/plain": [
              "JUN_GT_500   0   1\n",
              "FLOODS            \n",
              "0           19  39\n",
              "1            6  54"
            ]
          },
          "metadata": {
            "tags": []
          },
          "execution_count": 10
        }
      ]
    },
    {
      "cell_type": "code",
      "metadata": {
        "colab": {
          "base_uri": "https://localhost:8080/",
          "height": 142
        },
        "id": "08vm7UXvUBO3",
        "outputId": "bf27b91b-7367-430a-9a5c-f0366e57330f"
      },
      "source": [
        "pd.crosstab(df_small[\"FLOODS\"], df_small[\"JUN_GT_500\"])"
      ],
      "execution_count": null,
      "outputs": [
        {
          "output_type": "execute_result",
          "data": {
            "text/html": [
              "<div>\n",
              "<style scoped>\n",
              "    .dataframe tbody tr th:only-of-type {\n",
              "        vertical-align: middle;\n",
              "    }\n",
              "\n",
              "    .dataframe tbody tr th {\n",
              "        vertical-align: top;\n",
              "    }\n",
              "\n",
              "    .dataframe thead th {\n",
              "        text-align: right;\n",
              "    }\n",
              "</style>\n",
              "<table border=\"1\" class=\"dataframe\">\n",
              "  <thead>\n",
              "    <tr style=\"text-align: right;\">\n",
              "      <th>JUN_GT_500</th>\n",
              "      <th>0</th>\n",
              "      <th>1</th>\n",
              "    </tr>\n",
              "    <tr>\n",
              "      <th>FLOODS</th>\n",
              "      <th></th>\n",
              "      <th></th>\n",
              "    </tr>\n",
              "  </thead>\n",
              "  <tbody>\n",
              "    <tr>\n",
              "      <th>0</th>\n",
              "      <td>19</td>\n",
              "      <td>39</td>\n",
              "    </tr>\n",
              "    <tr>\n",
              "      <th>1</th>\n",
              "      <td>6</td>\n",
              "      <td>54</td>\n",
              "    </tr>\n",
              "  </tbody>\n",
              "</table>\n",
              "</div>"
            ],
            "text/plain": [
              "JUN_GT_500   0   1\n",
              "FLOODS            \n",
              "0           19  39\n",
              "1            6  54"
            ]
          },
          "metadata": {
            "tags": []
          },
          "execution_count": 11
        }
      ]
    },
    {
      "cell_type": "code",
      "metadata": {
        "colab": {
          "base_uri": "https://localhost:8080/"
        },
        "id": "g_vhYoxWUGE0",
        "outputId": "9292d414-c2fb-4ffd-c4ff-58004f468a2c"
      },
      "source": [
        "P_F = (6 + 54) / (6 + 54 + 19 + 39)\r\n",
        "P_J = (39 + 54) / (6 + 54 + 19 + 39)\r\n",
        "P_F_intersect_J = 54 / (6 + 54 + 19 + 39)\r\n",
        "print(f\"P(F): {P_F}\") \r\n",
        "print(f\"P(J): {P_J}\")\r\n",
        "print(f\"P(F AND J): {P_F_intersect_J}\")"
      ],
      "execution_count": null,
      "outputs": [
        {
          "output_type": "stream",
          "text": [
            "P(F): 0.5084745762711864\n",
            "P(J): 0.788135593220339\n",
            "P(F AND J): 0.4576271186440678\n"
          ],
          "name": "stdout"
        }
      ]
    },
    {
      "cell_type": "code",
      "metadata": {
        "colab": {
          "base_uri": "https://localhost:8080/"
        },
        "id": "H8JxFPGwUJ-5",
        "outputId": "5c354c69-8c04-4224-9a2f-458b53f5229f"
      },
      "source": [
        "# Now calculate probailitity of flood given it rained more than 500 mm in June (P(A|B))\r\n",
        "P_F_J = P_F_intersect_J / P_J\r\n",
        "print(f\"P(F|J): {P_F_J}\")"
      ],
      "execution_count": null,
      "outputs": [
        {
          "output_type": "stream",
          "text": [
            "P(F|J): 0.5806451612903226\n"
          ],
          "name": "stdout"
        }
      ]
    },
    {
      "cell_type": "code",
      "metadata": {
        "colab": {
          "base_uri": "https://localhost:8080/"
        },
        "id": "8HI0LCayURSx",
        "outputId": "89f5dc7c-bb70-4e8e-acd3-6dbc5f13cedf"
      },
      "source": [
        "# Probability of rain more than 500 mm in June given it flooded that year (P(B|A))\r\n",
        "P_J_F = (P_F_J * P_J) / P_F\r\n",
        "print(f\"P(J|F): {P_J_F}\")"
      ],
      "execution_count": null,
      "outputs": [
        {
          "output_type": "stream",
          "text": [
            "P(J|F): 0.9000000000000001\n"
          ],
          "name": "stdout"
        }
      ]
    },
    {
      "cell_type": "code",
      "metadata": {
        "colab": {
          "base_uri": "https://localhost:8080/",
          "height": 142
        },
        "id": "Echnz7JEUZuj",
        "outputId": "006dfe61-ece3-4135-d215-af31d1fd17d3"
      },
      "source": [
        "# We can similarly do it for july\r\n",
        "pd.crosstab(df_small[\"FLOODS\"], df_small[\"JUL_GT_500\"])"
      ],
      "execution_count": null,
      "outputs": [
        {
          "output_type": "execute_result",
          "data": {
            "text/html": [
              "<div>\n",
              "<style scoped>\n",
              "    .dataframe tbody tr th:only-of-type {\n",
              "        vertical-align: middle;\n",
              "    }\n",
              "\n",
              "    .dataframe tbody tr th {\n",
              "        vertical-align: top;\n",
              "    }\n",
              "\n",
              "    .dataframe thead th {\n",
              "        text-align: right;\n",
              "    }\n",
              "</style>\n",
              "<table border=\"1\" class=\"dataframe\">\n",
              "  <thead>\n",
              "    <tr style=\"text-align: right;\">\n",
              "      <th>JUL_GT_500</th>\n",
              "      <th>0</th>\n",
              "      <th>1</th>\n",
              "    </tr>\n",
              "    <tr>\n",
              "      <th>FLOODS</th>\n",
              "      <th></th>\n",
              "      <th></th>\n",
              "    </tr>\n",
              "  </thead>\n",
              "  <tbody>\n",
              "    <tr>\n",
              "      <th>0</th>\n",
              "      <td>19</td>\n",
              "      <td>39</td>\n",
              "    </tr>\n",
              "    <tr>\n",
              "      <th>1</th>\n",
              "      <td>3</td>\n",
              "      <td>57</td>\n",
              "    </tr>\n",
              "  </tbody>\n",
              "</table>\n",
              "</div>"
            ],
            "text/plain": [
              "JUL_GT_500   0   1\n",
              "FLOODS            \n",
              "0           19  39\n",
              "1            3  57"
            ]
          },
          "metadata": {
            "tags": []
          },
          "execution_count": 15
        }
      ]
    },
    {
      "cell_type": "code",
      "metadata": {
        "colab": {
          "base_uri": "https://localhost:8080/"
        },
        "id": "-8dxF-UeUdoK",
        "outputId": "f519c818-ad93-4a71-8e43-fcc9b7aef046"
      },
      "source": [
        "P_F = (3 + 57) / (3 + 57 + 19 + 39)\r\n",
        "P_J = (39 + 57) / (3 + 57 + 19 + 39)\r\n",
        "P_F_intersect_J = 57 / (3 + 57 + 19 + 39)\r\n",
        "print(f\"P(F): {P_F}\") \r\n",
        "print(f\"P(J): {P_J}\")\r\n",
        "print(f\"P(F AND J): {P_F_intersect_J}\")"
      ],
      "execution_count": null,
      "outputs": [
        {
          "output_type": "stream",
          "text": [
            "P(F): 0.5084745762711864\n",
            "P(J): 0.8135593220338984\n",
            "P(F AND J): 0.4830508474576271\n"
          ],
          "name": "stdout"
        }
      ]
    },
    {
      "cell_type": "code",
      "metadata": {
        "colab": {
          "base_uri": "https://localhost:8080/"
        },
        "id": "uW-GIYH9Ugc1",
        "outputId": "5a65c3ec-95dc-4c2a-dc76-0c4c2f5f145a"
      },
      "source": [
        "# Now calculate probailitity of flood given it rained more than 500 mm in July\r\n",
        "P_F_J = P_F_intersect_J / P_J\r\n",
        "print(f\"P(F|J): {P_F_J}\")"
      ],
      "execution_count": null,
      "outputs": [
        {
          "output_type": "stream",
          "text": [
            "P(F|J): 0.59375\n"
          ],
          "name": "stdout"
        }
      ]
    },
    {
      "cell_type": "code",
      "metadata": {
        "colab": {
          "base_uri": "https://localhost:8080/"
        },
        "id": "GpgQ4LJ9Ujhl",
        "outputId": "6d9e93fa-83ae-4644-b494-85b63c420a66"
      },
      "source": [
        "# Probability of rain more than 500 mm in July given it flooded that year (P(B|A))\r\n",
        "P_J_F = (P_F_J * P_J) / P_F\r\n",
        "print(f\"P(J|F): {P_J_F}\")"
      ],
      "execution_count": null,
      "outputs": [
        {
          "output_type": "stream",
          "text": [
            "P(J|F): 0.9500000000000002\n"
          ],
          "name": "stdout"
        }
      ]
    }
  ]
}